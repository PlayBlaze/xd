{
 "cells": [
  {
   "cell_type": "code",
   "execution_count": 1,
   "id": "bfeacc02",
   "metadata": {},
   "outputs": [],
   "source": [
    "import tensorflow as tf\n",
    "from tensorflow.keras.layers import Conv2D, MaxPooling2D, Flatten, Dense \n",
    "from tensorflow.keras.models import Sequential\n",
    "from tensorflow.keras.datasets import mnist \n",
    "import matplotlib.pyplot as plt"
   ]
  },
  {
   "cell_type": "code",
   "execution_count": 3,
   "id": "dcc24335",
   "metadata": {},
   "outputs": [],
   "source": [
    "# Load and Prepare Data\n",
    "(x_train, y_train), (x_test, y_test) = mnist.load_data() \n",
    "x_train, x_test = x_train / 255.0, x_test / 255.0"
   ]
  },
  {
   "cell_type": "code",
   "execution_count": 5,
   "id": "05efb86d",
   "metadata": {},
   "outputs": [],
   "source": [
    "# Build the CNN Model \n",
    "model = Sequential([\n",
    "Conv2D(32, (3, 3), activation='relu', input_shape=(28, 28, 1)),\n",
    "MaxPooling2D((2, 2)),\n",
    "Conv2D(64, (3, 3), activation='relu'),\n",
    "MaxPooling2D((2, 2)), Flatten(),\n",
    "Dense(64, activation='relu'), Dense(10, activation='softmax')\n",
    "])"
   ]
  },
  {
   "cell_type": "code",
   "execution_count": 6,
   "id": "d7acccfa",
   "metadata": {},
   "outputs": [
    {
     "name": "stdout",
     "output_type": "stream",
     "text": [
      "Epoch 1/5\n",
      "938/938 [==============================] - 16s 17ms/step - loss: 0.1740 - accuracy: 0.9477 - val_loss: 0.0533 - val_accuracy: 0.9839\n",
      "Epoch 2/5\n",
      "938/938 [==============================] - 15s 16ms/step - loss: 0.0505 - accuracy: 0.9850 - val_loss: 0.0502 - val_accuracy: 0.9831\n",
      "Epoch 3/5\n",
      "938/938 [==============================] - 16s 17ms/step - loss: 0.0372 - accuracy: 0.9888 - val_loss: 0.0387 - val_accuracy: 0.9862\n",
      "Epoch 4/5\n",
      "938/938 [==============================] - 16s 17ms/step - loss: 0.0284 - accuracy: 0.9908 - val_loss: 0.0317 - val_accuracy: 0.9896\n",
      "Epoch 5/5\n",
      "938/938 [==============================] - 16s 18ms/step - loss: 0.0212 - accuracy: 0.9932 - val_loss: 0.0336 - val_accuracy: 0.9887\n"
     ]
    }
   ],
   "source": [
    "# Compile and Train the Model\n",
    "model.compile(optimizer='adam', loss='sparse_categorical_crossentropy', metrics=['accuracy']) \n",
    "history\t=\tmodel.fit(x_train.reshape(-1,\t28,\t28,\t1),\ty_train,\tepochs=5,\tbatch_size=64,\n",
    "validation_data=(x_test.reshape(-1, 28, 28, 1), y_test))"
   ]
  },
  {
   "cell_type": "code",
   "execution_count": 7,
   "id": "76305e46",
   "metadata": {},
   "outputs": [
    {
     "name": "stdout",
     "output_type": "stream",
     "text": [
      "313/313 [==============================] - 1s 4ms/step - loss: 0.0336 - accuracy: 0.9887\n",
      "Test accuracy: 0.9887\n"
     ]
    }
   ],
   "source": [
    "# Evaluate the Model\n",
    "test_loss, test_acc = model.evaluate(x_test.reshape(-1, 28, 28, 1), y_test) \n",
    "print(f'Test accuracy: {test_acc:.4f}')"
   ]
  },
  {
   "cell_type": "code",
   "execution_count": 8,
   "id": "d467cb6d",
   "metadata": {},
   "outputs": [
    {
     "name": "stdout",
     "output_type": "stream",
     "text": [
      "313/313 [==============================] - 1s 4ms/step\n"
     ]
    },
    {
     "data": {
      "image/png": "[encoded data removed]",
      "text/plain": [
       "<Figure size 2000x400 with 10 Axes>"
      ]
     },
     "metadata": {},
     "output_type": "display_data"
    }
   ],
   "source": [
    "# Predictions and Visualization\n",
    "predictions = model.predict(x_test.reshape(-1, 28, 28, 1))\n",
    "plt.figure(figsize=(20, 4)) \n",
    "for i in range(10):\n",
    "    ax = plt.subplot(2, 10, i + 1) \n",
    "    plt.imshow(x_test[i], cmap='gray') \n",
    "    ax.axis('off')\n",
    "    ax.set_title(f'Pred: {predictions[i].argmax()}') \n",
    "plt.show()"
   ]
  },
  {
   "cell_type": "code",
   "execution_count": null,
   "id": "85f09034",
   "metadata": {},
   "outputs": [],
   "source": []
  }
 ],
 "metadata": {
  "kernelspec": {
   "display_name": "Python 3 (ipykernel)",
   "language": "python",
   "name": "python3"
  },
  "language_info": {
   "codemirror_mode": {
    "name": "ipython",
    "version": 3
   },
   "file_extension": ".py",
   "mimetype": "text/x-python",
   "name": "python",
   "nbconvert_exporter": "python",
   "pygments_lexer": "ipython3",
   "version": "3.11.2"
  }
 },
 "nbformat": 4,
 "nbformat_minor": 5
}
