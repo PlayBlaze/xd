{
 "cells": [
  {
   "cell_type": "code",
   "execution_count": null,
   "id": "444c1716",
   "metadata": {},
   "outputs": [],
   "source": [
    "# a) E.g. (4-to-1 RNN) to show that the quantity of rain on a certain day also depends on the values of the previous day"
   ]
  },
  {
   "cell_type": "code",
   "execution_count": 1,
   "id": "4a9d6e23",
   "metadata": {},
   "outputs": [],
   "source": [
    "import numpy as np \n",
    "import tensorflow as tf"
   ]
  },
  {
   "cell_type": "code",
   "execution_count": 2,
   "id": "ab4851c9",
   "metadata": {},
   "outputs": [],
   "source": [
    "# Generate synthetic data\n",
    "data = np.random.rand(100, 1) \n",
    "X, y = [], []\n",
    "for i in range(len(data) - 4): \n",
    "    X.append(data[i:i+4]) \n",
    "    y.append(data[i+4])\n",
    "X, y = np.array(X), np.array(y)"
   ]
  },
  {
   "cell_type": "code",
   "execution_count": 3,
   "id": "8fe8a3e6",
   "metadata": {},
   "outputs": [
    {
     "data": {
      "text/plain": [
       "<keras.callbacks.History at 0x1fb60230ed0>"
      ]
     },
     "execution_count": 3,
     "metadata": {},
     "output_type": "execute_result"
    }
   ],
   "source": [
    "# Build and train the RNN model \n",
    "model = tf.keras.Sequential([\n",
    "tf.keras.layers.SimpleRNN(50, input_shape=(4, 1)), \n",
    "    tf.keras.layers.Dense(1)\n",
    "])\n",
    "model.compile(optimizer='adam', loss='mse') \n",
    "model.fit(X, y, epochs=200, verbose=0)"
   ]
  },
  {
   "cell_type": "code",
   "execution_count": 4,
   "id": "d479f94f",
   "metadata": {},
   "outputs": [
    {
     "name": "stdout",
     "output_type": "stream",
     "text": [
      "1/1 [==============================] - 0s 169ms/step\n",
      "Predicted Rainfall for the next day:  [[0.4990113]]\n"
     ]
    }
   ],
   "source": [
    "# Predict the next value\n",
    "print('Predicted Rainfall for the next day: ',model.predict(data[-4:].reshape(1, 4, 1)))"
   ]
  },
  {
   "cell_type": "code",
   "execution_count": null,
   "id": "9782f993",
   "metadata": {},
   "outputs": [],
   "source": [
    "# b) LSTM for sentiment analysis on datasets like UMICH SI650 for similar."
   ]
  },
  {
   "cell_type": "code",
   "execution_count": 5,
   "id": "f1218f06",
   "metadata": {},
   "outputs": [
    {
     "name": "stderr",
     "output_type": "stream",
     "text": [
      "[nltk_data] Downloading package movie_reviews to\n",
      "[nltk_data]     C:\\Users\\kalpesh\\AppData\\Roaming\\nltk_data...\n",
      "[nltk_data]   Unzipping corpora\\movie_reviews.zip.\n"
     ]
    },
    {
     "data": {
      "text/plain": [
       "True"
      ]
     },
     "execution_count": 5,
     "metadata": {},
     "output_type": "execute_result"
    }
   ],
   "source": [
    "import tensorflow as tf\n",
    "from sklearn.model_selection import train_test_split \n",
    "import nltk\n",
    "from nltk.corpus import movie_reviews \n",
    "nltk.download('movie_reviews')"
   ]
  },
  {
   "cell_type": "code",
   "execution_count": 6,
   "id": "ec3a2403",
   "metadata": {},
   "outputs": [],
   "source": [
    "# Load and preprocess data\n",
    "sentences = [\" \".join(movie_reviews.words(fileid)) for fileid in movie_reviews.fileids()] \n",
    "labels = [1 if fileid.startswith('pos') else 0 for fileid in movie_reviews.fileids()]"
   ]
  },
  {
   "cell_type": "code",
   "execution_count": 7,
   "id": "5a481fe9",
   "metadata": {},
   "outputs": [],
   "source": [
    "tokenizer = tf.keras.preprocessing.text.Tokenizer(num_words=5000) \n",
    "X = tokenizer.texts_to_sequences(sentences)\n",
    "X = tf.keras.preprocessing.sequence.pad_sequences(X, maxlen=100) \n",
    "y = np.array(labels)"
   ]
  },
  {
   "cell_type": "code",
   "execution_count": 8,
   "id": "0f02be8c",
   "metadata": {},
   "outputs": [],
   "source": [
    "X_train, X_test, y_train, y_test = train_test_split(X, y, test_size=0.2, random_state=42) "
   ]
  },
  {
   "cell_type": "code",
   "execution_count": 9,
   "id": "aa0ca290",
   "metadata": {},
   "outputs": [
    {
     "name": "stdout",
     "output_type": "stream",
     "text": [
      "Epoch 1/5\n",
      "25/25 [==============================] - 6s 147ms/step - loss: 0.6934 - accuracy: 0.5144 - val_loss: 0.6944 - val_accuracy: 0.4975\n",
      "Epoch 2/5\n",
      "25/25 [==============================] - 3s 119ms/step - loss: 0.6947 - accuracy: 0.4806 - val_loss: 0.6931 - val_accuracy: 0.5025\n",
      "Epoch 3/5\n",
      "25/25 [==============================] - 3s 120ms/step - loss: 0.6935 - accuracy: 0.4844 - val_loss: 0.6931 - val_accuracy: 0.4975\n",
      "Epoch 4/5\n",
      "25/25 [==============================] - 3s 121ms/step - loss: 0.6933 - accuracy: 0.5006 - val_loss: 0.6932 - val_accuracy: 0.4975\n",
      "Epoch 5/5\n",
      "25/25 [==============================] - 3s 124ms/step - loss: 0.6935 - accuracy: 0.5006 - val_loss: 0.6932 - val_accuracy: 0.4975\n"
     ]
    },
    {
     "data": {
      "text/plain": [
       "<keras.callbacks.History at 0x1fb65e40e90>"
      ]
     },
     "execution_count": 9,
     "metadata": {},
     "output_type": "execute_result"
    }
   ],
   "source": [
    "# Build and train the LSTM model\n",
    "model = tf.keras.Sequential([\n",
    "tf.keras.layers.Embedding(5000, 128, input_length=100), \n",
    "    tf.keras.layers.LSTM(128),\n",
    "    tf.keras.layers.Dense(1, activation='sigmoid')\n",
    "])\n",
    "model.compile(optimizer='adam', loss='binary_crossentropy', metrics=['accuracy']) \n",
    "model.fit(X_train, y_train, epochs=5, batch_size=64, validation_data=(X_test, y_test))"
   ]
  },
  {
   "cell_type": "code",
   "execution_count": 10,
   "id": "c0c4bc59",
   "metadata": {},
   "outputs": [
    {
     "name": "stdout",
     "output_type": "stream",
     "text": [
      "13/13 [==============================] - 1s 38ms/step - loss: 0.6932 - accuracy: 0.4975\n",
      "Test Accuracy:  0.4975000023841858\n"
     ]
    }
   ],
   "source": [
    "# Evaluate the model\n",
    "print('Test Accuracy: ',model.evaluate(X_test, y_test)[1])"
   ]
  },
  {
   "cell_type": "code",
   "execution_count": null,
   "id": "79fa6c6c",
   "metadata": {},
   "outputs": [],
   "source": []
  }
 ],
 "metadata": {
  "kernelspec": {
   "display_name": "Python 3 (ipykernel)",
   "language": "python",
   "name": "python3"
  },
  "language_info": {
   "codemirror_mode": {
    "name": "ipython",
    "version": 3
   },
   "file_extension": ".py",
   "mimetype": "text/x-python",
   "name": "python",
   "nbconvert_exporter": "python",
   "pygments_lexer": "ipython3",
   "version": "3.11.2"
  }
 },
 "nbformat": 4,
 "nbformat_minor": 5
}
